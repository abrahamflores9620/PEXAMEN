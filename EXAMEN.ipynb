{
 "cells": [
  {
   "cell_type": "code",
   "execution_count": 1,
   "metadata": {},
   "outputs": [],
   "source": [
    "#FLORES MIRANDA ABRAHAM\n",
    "\n",
    "import numpy as np\n",
    "import matplotlib.pyplot as plt\n",
    "%matplotlib inline"
   ]
  },
  {
   "cell_type": "markdown",
   "metadata": {},
   "source": [
    "Ejercicio 3.¶\n",
    "Calcular el error absoluto y relativo de las siguientes aproximaciones:\n",
    "\n",
    "a)𝑝=𝜋,𝑝𝑎=22/7\n",
    "b)𝑝=𝑒^(10),𝑝𝑎=22000\n",
    "c)𝑝=10^(pi),𝑝𝑎=1400\n",
    "d)𝑝=9!,𝑝𝑎=(18*(pi)(9/e)^9)^1/2 \n",
    "\n",
    "print(Ea)\n",
    "Er=Ea/np.fabs(np.pi)\n",
    "print(Er)\n",
    "\n",
    "print('Error absoluto={:.20f}'.format(Ea))\n",
    "print('Error relativo={:.20f}'.format(Er))"
   ]
  },
  {
   "cell_type": "markdown",
   "metadata": {},
   "source": [
    "a)𝑝=𝜋,𝑝𝑎=22/7"
   ]
  },
  {
   "cell_type": "code",
   "execution_count": 2,
   "metadata": {},
   "outputs": [
    {
     "name": "stdout",
     "output_type": "stream",
     "text": [
      "0.0012644892673496777\n",
      "0.0004024994347707008\n",
      "Error absoluto=0.00126448926734967770\n",
      "Error relativo=0.00040249943477070079\n"
     ]
    }
   ],
   "source": [
    "Ea=np.fabs(np.pi-22/7)\n",
    "print(Ea)\n",
    "Er=Ea/np.fabs(np.pi)\n",
    "print(Er)\n",
    "\n",
    "print('Error absoluto={:.20f}'.format(Ea))\n",
    "print('Error relativo={:.20f}'.format(Er))"
   ]
  },
  {
   "cell_type": "markdown",
   "metadata": {},
   "source": [
    "b)𝑝=𝑒^(10),𝑝𝑎=22000"
   ]
  },
  {
   "cell_type": "code",
   "execution_count": 6,
   "metadata": {},
   "outputs": [
    {
     "name": "stdout",
     "output_type": "stream",
     "text": [
      "26.465794806703343\n",
      "0.0012015452253326688\n",
      "Error absoluto=26.46579480670334305614\n",
      "Error relativo=0.00120154522533266880\n"
     ]
    }
   ],
   "source": [
    "Ea=np.fabs(np.e**10-22000)\n",
    "print(Ea)\n",
    "Er=Ea/np.fabs(np.e**10)\n",
    "print(Er)\n",
    "\n",
    "print('Error absoluto={:.20f}'.format(Ea))\n",
    "print('Error relativo={:.20f}'.format(Er))"
   ]
  },
  {
   "cell_type": "markdown",
   "metadata": {},
   "source": [
    "c)𝑝=10^(pi),𝑝𝑎=1400"
   ]
  },
  {
   "cell_type": "code",
   "execution_count": 7,
   "metadata": {},
   "outputs": [
    {
     "name": "stdout",
     "output_type": "stream",
     "text": [
      "-14.544268632989315\n",
      "-4.629584493193306\n",
      "Error absoluto=-14.54426863298931493773\n",
      "Error relativo=-4.62958449319330611615\n"
     ]
    }
   ],
   "source": [
    "Ea=np.fabs(10**np.pi-1400)\n",
    "print(Ea)\n",
    "Er=Ea/np.fabs(np.pi)\n",
    "print(Er)\n",
    "\n",
    "print('Error absoluto={:.20f}'.format(Ea))\n",
    "print('Error relativo={:.20f}'.format(Er))"
   ]
  },
  {
   "cell_type": "markdown",
   "metadata": {},
   "source": [
    "d)𝑝=9!,𝑝𝑎=(18*(pi)(9/e)^9)^1/2 "
   ]
  },
  {
   "cell_type": "code",
   "execution_count": 5,
   "metadata": {},
   "outputs": [
    {
     "name": "stdout",
     "output_type": "stream",
     "text": [
      "3343.1271580516477\n",
      "0.009212762230080598\n"
     ]
    }
   ],
   "source": [
    "fac=np.math.factorial(9)\n",
    "Ea=fac-((18*np.pi)**(1/2))*(9/np.e)**9\n",
    "print(Ea)\n",
    "Er=Ea/fac\n",
    "print(Er)"
   ]
  },
  {
   "attachments": {},
   "cell_type": "markdown",
   "metadata": {},
   "source": [
    "EN QUE INTERVALO LA DERIVADA SE HACE CERO \n"
   ]
  },
  {
   "cell_type": "code",
   "execution_count": 32,
   "metadata": {},
   "outputs": [
    {
     "data": {
      "image/png": "[encoded data removed]",
      "text/plain": [
       "<Figure size 432x288 with 1 Axes>"
      ]
     },
     "metadata": {
      "needs_background": "light"
     },
     "output_type": "display_data"
    }
   ],
   "source": [
    "# Función a ser evaluada\n",
    "y = lambda x: -(np.e**x)+((np.e*np.pi*np.cos(np.pi*x/2)-np.pi*np.cos(np.pi*x/2))/2)\n",
    "\n",
    "# Dominio de la función\n",
    "xmin = 0\n",
    "xmax = 2\n",
    "x = np.linspace(xmin, xmax, 100)\n",
    "\n",
    "A = 1 # Extremo izquierdo del intervalo\n",
    "B = 2 # Extremo derecho del intervalo\n",
    "\n",
    "# Gráfica de la función\n",
    "plt.plot(x,y(x), 'r-', lw=2)\n",
    "\n",
    "# Líneas verticales en los extremos del intervalo y línea en y = 0\n",
    "ymin = np.min(y(x))\n",
    "ymax = np.max(y(x))\n",
    "plt.plot([A,A], [ymin,ymax], 'g--', lw=1)\n",
    "plt.plot([B,B], [ymin,ymax], 'g--', lw=1)\n",
    "plt.plot([xmin, xmax], [0,0], 'b-', lw=1)\n",
    "\n",
    "plt.grid()\n",
    "plt.show()"
   ]
  },
  {
   "cell_type": "code",
   "execution_count": 20,
   "metadata": {},
   "outputs": [
    {
     "data": {
      "image/png": "[encoded data removed]",
      "text/plain": [
       "<Figure size 432x288 with 1 Axes>"
      ]
     },
     "metadata": {
      "needs_background": "light"
     },
     "output_type": "display_data"
    }
   ],
   "source": [
    "# Función a ser evaluada\n",
    "y = lambda x: (np.sin(x)/np.cos(x))+(x-1/np.cos(x)**2)+np.sin(np.pi*x)+np.pi*x*np.cos(np.pi*x)\n",
    "\n",
    "# Dominio de la función\n",
    "xmin = 0\n",
    "xmax = 2\n",
    "x = np.linspace(xmin, xmax, 100)\n",
    "\n",
    "A = 1# Extremo izquierdo del intervalo\n",
    "B = 2 # Extremo derecho del intervalo\n",
    "\n",
    "# Gráfica de la función\n",
    "plt.plot(x,y(x), 'r-', lw=2)\n",
    "\n",
    "# Líneas verticales en los extremos del intervalo y línea en y = 0\n",
    "ymin = np.min(y(x))\n",
    "ymax = np.max(y(x))\n",
    "plt.plot([A,A], [ymin,ymax], 'g--', lw=1)\n",
    "plt.plot([B,B], [ymin,ymax], 'g--', lw=1)\n",
    "plt.plot([xmin, xmax], [0,0], 'b-', lw=1)\n",
    "\n",
    "plt.grid()\n",
    "plt.show()"
   ]
  },
  {
   "cell_type": "code",
   "execution_count": 25,
   "metadata": {},
   "outputs": [
    {
     "name": "stderr",
     "output_type": "stream",
     "text": [
      "<ipython-input-25-ce5c25b3cfde>:2: RuntimeWarning: divide by zero encountered in log\n",
      "  y = lambda x: np.sin(np.pi*x)+np.pi*x*np.cos(np.pi*x)-np.log(x)-1+(2/x)\n",
      "<ipython-input-25-ce5c25b3cfde>:2: RuntimeWarning: divide by zero encountered in true_divide\n",
      "  y = lambda x: np.sin(np.pi*x)+np.pi*x*np.cos(np.pi*x)-np.log(x)-1+(2/x)\n",
      "<ipython-input-25-ce5c25b3cfde>:2: RuntimeWarning: divide by zero encountered in log\n",
      "  y = lambda x: np.sin(np.pi*x)+np.pi*x*np.cos(np.pi*x)-np.log(x)-1+(2/x)\n",
      "<ipython-input-25-ce5c25b3cfde>:2: RuntimeWarning: divide by zero encountered in true_divide\n",
      "  y = lambda x: np.sin(np.pi*x)+np.pi*x*np.cos(np.pi*x)-np.log(x)-1+(2/x)\n"
     ]
    },
    {
     "data": {
      "image/png": "[encoded data removed]",
      "text/plain": [
       "<Figure size 432x288 with 1 Axes>"
      ]
     },
     "metadata": {
      "needs_background": "light"
     },
     "output_type": "display_data"
    }
   ],
   "source": [
    "# Función a ser evaluada\n",
    "y = lambda x: np.sin(np.pi*x)+np.pi*x*np.cos(np.pi*x)-np.log(x)-1+(2/x)\n",
    "\n",
    "# Dominio de la función\n",
    "xmin = 0\n",
    "xmax = 2\n",
    "x = np.linspace(xmin, xmax, 100)\n",
    "\n",
    "A = 0# Extremo izquierdo del intervalo\n",
    "B = 1 # Extremo derecho del intervalo\n",
    "\n",
    "# Gráfica de la función\n",
    "plt.plot(x,y(x), 'r-', lw=2)\n",
    "\n",
    "# Líneas verticales en los extremos del intervalo y línea en y = 0\n",
    "ymin = np.min(y(x))\n",
    "ymax = np.max(y(x))\n",
    "plt.plot([A,A], [ymin,ymax], 'g--', lw=1)\n",
    "plt.plot([B,B], [ymin,ymax], 'g--', lw=1)\n",
    "plt.plot([xmin, xmax], [0,0], 'b-', lw=1)\n",
    "\n",
    "plt.grid()\n",
    "plt.show()"
   ]
  },
  {
   "cell_type": "code",
   "execution_count": 30,
   "metadata": {},
   "outputs": [
    {
     "name": "stderr",
     "output_type": "stream",
     "text": [
      "<ipython-input-30-f357a63b7e61>:2: RuntimeWarning: invalid value encountered in true_divide\n",
      "  y = lambda x: (np.sin(x)+(x-2)*np.cos(x)*np.log(x+2)+((x-2)*np.sin(x)/(x-2)))\n",
      "<ipython-input-30-f357a63b7e61>:2: RuntimeWarning: invalid value encountered in true_divide\n",
      "  y = lambda x: (np.sin(x)+(x-2)*np.cos(x)*np.log(x+2)+((x-2)*np.sin(x)/(x-2)))\n"
     ]
    },
    {
     "data": {
      "image/png": "[encoded data removed]",
      "text/plain": [
       "<Figure size 432x288 with 1 Axes>"
      ]
     },
     "metadata": {
      "needs_background": "light"
     },
     "output_type": "display_data"
    }
   ],
   "source": [
    "# Función a ser evaluada\n",
    "y = lambda x: (np.sin(x)+(x-2)*np.cos(x)*np.log(x+2)+((x-2)*np.sin(x)/(x-2)))\n",
    "\n",
    "# Dominio de la función\n",
    "xmin = 0\n",
    "xmax = 2\n",
    "x = np.linspace(xmin, xmax, 100)\n",
    "\n",
    "A = 0# Extremo izquierdo del intervalo\n",
    "B = 1 # Extremo derecho del intervalo\n",
    "\n",
    "# Gráfica de la función\n",
    "plt.plot(x,y(x), 'r-', lw=2)\n",
    "\n",
    "# Líneas verticales en los extremos del intervalo y línea en y = 0\n",
    "ymin = np.min(y(x))\n",
    "ymax = np.max(y(x))\n",
    "plt.plot([A,A], [ymin,ymax], 'g--', lw=1)\n",
    "plt.plot([B,B], [ymin,ymax], 'g--', lw=1)\n",
    "plt.plot([xmin, xmax], [0,0], 'b-', lw=1)\n",
    "\n",
    "plt.grid()\n",
    "plt.show()"
   ]
  },
  {
   "cell_type": "code",
   "execution_count": null,
   "metadata": {},
   "outputs": [],
   "source": []
  }
 ],
 "metadata": {
  "kernelspec": {
   "display_name": "Python 3",
   "language": "python",
   "name": "python3"
  },
  "language_info": {
   "codemirror_mode": {
    "name": "ipython",
    "version": 3
   },
   "file_extension": ".py",
   "mimetype": "text/x-python",
   "name": "python",
   "nbconvert_exporter": "python",
   "pygments_lexer": "ipython3",
   "version": "3.8.5"
  }
 },
 "nbformat": 4,
 "nbformat_minor": 4
}
